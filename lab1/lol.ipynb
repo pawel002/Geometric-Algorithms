{
 "cells": [],
 "metadata": {
  "kernelspec": {
   "display_name": "Python 3.9.10 64-bit",
   "language": "python",
   "name": "python3"
  },
  "language_info": {
   "name": "python",
   "version": "3.9.10"
  },
  "orig_nbformat": 4,
  "vscode": {
   "interpreter": {
    "hash": "182d2a8244240486a264e71572f69ef424137705cef3ce5d128fa6fbd950e12a"
   }
  }
 },
 "nbformat": 4,
 "nbformat_minor": 2
}
